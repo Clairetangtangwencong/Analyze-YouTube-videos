{
 "cells": [
  {
   "cell_type": "markdown",
   "id": "dd7b89cd-035c-43d1-9c58-fd830589ebc0",
   "metadata": {},
   "source": [
    "## 1. Import libraries"
   ]
  },
  {
   "cell_type": "code",
   "execution_count": 19,
   "id": "034503e0-264a-48a3-b296-c77650daeff1",
   "metadata": {},
   "outputs": [],
   "source": [
    "from googleapiclient.discovery import build\n",
    "from google_auth_oauthlib.flow import InstalledAppFlow\n",
    "from google.auth.transport.requests import Request\n",
    "\n",
    "import urllib.parse as p\n",
    "import re\n",
    "import os\n",
    "import pickle\n",
    "import math\n",
    "import pandas as pd\n",
    "from datetime import date\n",
    "from datetime import timedelta"
   ]
  },
  {
   "cell_type": "code",
   "execution_count": 20,
   "id": "f533d54a-bc00-418d-833c-91447cb5fbb6",
   "metadata": {},
   "outputs": [],
   "source": [
    "SCOPES = [\"https://www.googleapis.com/auth/youtube.force-ssl\"]"
   ]
  },
  {
   "cell_type": "markdown",
   "id": "104b326c-2537-4021-851d-60a1f748a2d9",
   "metadata": {},
   "source": [
    "## 2. Set Up"
   ]
  },
  {
   "cell_type": "markdown",
   "id": "b3b60ba6-4c37-4777-b0a5-e5ff9b02ec6f",
   "metadata": {},
   "source": [
    "### 2.1. enable your YouTube API https://developers.google.com/youtube/v3\n",
    "### 2.2. download your credentials from \n",
    "### https://console.developers.google.com/apis/credentials and save as credentials.json\n",
    "### 2.3. Authenticate to YouTube API"
   ]
  },
  {
   "cell_type": "code",
   "execution_count": 21,
   "id": "0420135b-db0b-4118-8d19-b1ca2bc47f77",
   "metadata": {},
   "outputs": [],
   "source": [
    "def youtube_authenticate():\n",
    "    os.environ[\"OAUTHLIB_INSECURE_TRANSPORT\"] = \"1\"\n",
    "    api_service_name = \"youtube\"\n",
    "    api_version = \"v3\"\n",
    "    client_secrets_file = \"credentials.json\"\n",
    "    creds = None\n",
    "    # the file token.pickle stores the user's access and refresh tokens, and is\n",
    "    # created automatically when the authorization flow completes for the first time\n",
    "    if os.path.exists(\"token.pickle\"):\n",
    "        with open(\"token.pickle\", \"rb\") as token:\n",
    "            creds = pickle.load(token)\n",
    "    # if there are no (valid) credentials availablle, let the user log in.\n",
    "    if not creds or not creds.valid:\n",
    "        if creds and creds.expired and creds.refresh_token:\n",
    "            creds.refresh(Request())\n",
    "        else:\n",
    "            flow = InstalledAppFlow.from_client_secrets_file(client_secrets_file, SCOPES)\n",
    "            creds = flow.run_local_server(port=0)\n",
    "        # save the credentials for the next run\n",
    "        with open(\"token.pickle\", \"wb\") as token:\n",
    "            pickle.dump(creds, token)\n",
    "\n",
    "    return build(api_service_name, api_version, credentials=creds)\n",
    "\n",
    "# authenticate to YouTube API\n",
    "youtube = youtube_authenticate()"
   ]
  },
  {
   "cell_type": "markdown",
   "id": "c5c227b1-1d43-4a5a-a74a-1b7773f126dc",
   "metadata": {},
   "source": [
    "## 3. Get Video Information"
   ]
  },
  {
   "cell_type": "markdown",
   "id": "ce5a55a4-8b26-4acf-ae74-be1133509c5b",
   "metadata": {},
   "source": [
    "### 3.1. Parse Channel URL to get Channel ID"
   ]
  },
  {
   "cell_type": "code",
   "execution_count": 22,
   "id": "e54ff901-9448-4944-aad8-441eddbb2fdd",
   "metadata": {},
   "outputs": [],
   "source": [
    "def parse_channel_url(url):\n",
    "    \"\"\"\n",
    "    takes channel `url` to check whether it includes a channel ID, user ID or channel name\n",
    "    \"\"\"\n",
    "    path = p.urlparse(url).path\n",
    "    id = path.split(\"/\")[-1]\n",
    "    if \"/c/\" in path:\n",
    "        return \"c\", id\n",
    "    elif \"/channel/\" in path:\n",
    "        return \"channel\", id\n",
    "    elif \"/user/\" in path:\n",
    "        return \"user\", id\n",
    "\n",
    "def get_channel_id_by_url(youtube, url):\n",
    "    \"\"\"\n",
    "    Returns channel ID of a given `id` and `method`\n",
    "    - `method` (str): can be 'c', 'channel', 'user'\n",
    "    - `id` (str): if method is 'c', then `id` is display name\n",
    "        if method is 'channel', then it's channel id\n",
    "        if method is 'user', then it's username\n",
    "    \"\"\"\n",
    "    # parse the channel URL\n",
    "    method, id = parse_channel_url(url)\n",
    "    if method == \"channel\":\n",
    "        # if it's a channel ID, then just return it\n",
    "        return id\n",
    "    elif method == \"user\":\n",
    "        # if it's a user ID, make a request to get the channel ID\n",
    "        response = get_channel_details(youtube, forUsername=id)\n",
    "        items = response.get(\"items\")\n",
    "        if items:\n",
    "            channel_id = items[0].get(\"id\")\n",
    "            return channel_id\n",
    "    elif method == \"c\":\n",
    "        # if it's a channel name, search for the channel using the name\n",
    "        # may be inaccurate\n",
    "        response = search(youtube, q=id, maxResults=1)\n",
    "        items = response.get(\"items\")\n",
    "        if items:\n",
    "            channel_id = items[0][\"snippet\"][\"channelId\"]\n",
    "            return channel_id\n",
    "    raise Exception(f\"Cannot find ID:{id} with {method} method\")"
   ]
  },
  {
   "cell_type": "code",
   "execution_count": 23,
   "id": "5aab7e87-2e79-4af5-b8d5-a17a3d50ee7e",
   "metadata": {},
   "outputs": [],
   "source": [
    "channel_url = \"https://www.youtube.com/channel/UCJL8hLQRqF28KRIwiMlnO7w\"\n",
    "channel_id = get_channel_id_by_url(youtube, channel_url)"
   ]
  },
  {
   "cell_type": "markdown",
   "id": "6071e7af-4c2c-4761-b487-89f8407cb782",
   "metadata": {},
   "source": [
    "### 3.2. Get video URLs from Channel"
   ]
  },
  {
   "cell_type": "code",
   "execution_count": 24,
   "id": "6f71bb5d-7b27-4555-8e33-ac01de0133fb",
   "metadata": {},
   "outputs": [],
   "source": [
    "def get_channel_videos(youtube, **kwargs):\n",
    "    return youtube.search().list(\n",
    "        **kwargs\n",
    "    ).execute()\n",
    "\n",
    "def get_channel_details(youtube, **kwargs):\n",
    "    return youtube.channels().list(\n",
    "        part=\"statistics,snippet,contentDetails\",\n",
    "        **kwargs\n",
    "    ).execute()"
   ]
  },
  {
   "cell_type": "code",
   "execution_count": 25,
   "id": "fb7661a4-037a-472f-aef6-89ec843f7513",
   "metadata": {},
   "outputs": [],
   "source": [
    "# get the channel details\n",
    "response = get_channel_details(youtube, id=channel_id)\n",
    "# extract channel infos\n",
    "snippet = response[\"items\"][0][\"snippet\"]\n",
    "statistics = response[\"items\"][0][\"statistics\"]\n",
    "channel_video_count = statistics[\"videoCount\"]"
   ]
  },
  {
   "cell_type": "markdown",
   "id": "5a1e0391-b8fe-4634-8c5c-a41e9da1033a",
   "metadata": {},
   "source": [
    "### 3.3. Get video details from URLs"
   ]
  },
  {
   "cell_type": "code",
   "execution_count": 26,
   "id": "c885bb26-9eb0-4017-8545-7fd7f5fb0c98",
   "metadata": {},
   "outputs": [],
   "source": [
    "def get_video_id_by_url(url):\n",
    "    \"\"\"\n",
    "    Return the Video ID from the video `url`\n",
    "    \"\"\"\n",
    "    # split URL parts\n",
    "    parsed_url = p.urlparse(url)\n",
    "    # get the video ID by parsing the query of the URL\n",
    "    video_id = p.parse_qs(parsed_url.query).get(\"v\")\n",
    "    if video_id:\n",
    "        return video_id[0]\n",
    "    else:\n",
    "        raise Exception(f\"Wasn't able to parse video URL: {url}\")\n",
    "        \n",
    "def get_video_details(youtube, **kwargs):\n",
    "    return youtube.videos().list(\n",
    "        part=\"snippet,contentDetails,statistics\",\n",
    "        **kwargs\n",
    "    ).execute()"
   ]
  },
  {
   "cell_type": "code",
   "execution_count": 27,
   "id": "29168826-4980-4681-94eb-ba77dd3caaf3",
   "metadata": {},
   "outputs": [],
   "source": [
    "# the following is grabbing channel videos\n",
    "# get all pages\n",
    "n_pages = math.ceil(int(channel_video_count) / 5)\n",
    "# counting number of videos grabbed\n",
    "n_videos = 0\n",
    "next_page_token = None\n",
    "video_urls = []\n",
    "for i in range(n_pages):\n",
    "    params = {\n",
    "        'part': 'snippet',\n",
    "        'q': '',\n",
    "        'channelId': channel_id,\n",
    "        'type': 'video',\n",
    "    }\n",
    "    if next_page_token:\n",
    "        params['pageToken'] = next_page_token\n",
    "    res = get_channel_videos(youtube, **params)\n",
    "    channel_videos = res.get(\"items\")\n",
    "    for video in channel_videos:\n",
    "        n_videos += 1\n",
    "        video_id = video[\"id\"][\"videoId\"]\n",
    "        # easily construct video URL by its ID\n",
    "        video_url = f\"https://www.youtube.com/watch?v={video_id}\"\n",
    "        video_urls.append(video_url)\n",
    "    # if there is a next page, then add it to our parameters\n",
    "    # to proceed to the next page\n",
    "    if \"nextPageToken\" in res:\n",
    "        next_page_token = res[\"nextPageToken\"]"
   ]
  },
  {
   "cell_type": "markdown",
   "id": "7d015425-0bad-48d1-870b-c494bd49d623",
   "metadata": {},
   "source": [
    "### 3.4. Print video infos"
   ]
  },
  {
   "cell_type": "code",
   "execution_count": 28,
   "id": "87463638-f94b-4a50-82ea-97a935755036",
   "metadata": {},
   "outputs": [],
   "source": [
    "def print_video_infos(video_response):\n",
    "    today_date = date.today()\n",
    "    items = video_response.get(\"items\")[0]\n",
    "    # get the snippet, statistics & content details from the video response\n",
    "    snippet         = items[\"snippet\"]\n",
    "    statistics      = items[\"statistics\"]\n",
    "    content_details = items[\"contentDetails\"]\n",
    "    # get infos from the snippet\n",
    "    # channel_title = snippet[\"channelTitle\"]\n",
    "    title         = snippet[\"title\"]\n",
    "    publish_time  = snippet[\"publishedAt\"]\n",
    "    # get stats infos\n",
    "    comment_count = statistics[\"commentCount\"]\n",
    "    like_count    = statistics[\"likeCount\"]\n",
    "    view_count    = statistics[\"viewCount\"]\n",
    "    stats = {\n",
    "        \"Video Title\": title,\n",
    "        \"Views\":view_count,\n",
    "        \"Likes\":like_count,\n",
    "        \"Comments\":comment_count,\n",
    "        \"Publish Date\": publish_time[:10]\n",
    "    }\n",
    "    stats_df = pd.DataFrame(stats, index = [today_date])\n",
    "    return stats_df"
   ]
  },
  {
   "cell_type": "code",
   "execution_count": 29,
   "id": "dbca0010-81be-4a5b-b44e-75f45a00ff13",
   "metadata": {},
   "outputs": [],
   "source": [
    "video_data = pd.DataFrame(columns=[\"Video Title\", \"Views\", \"Likes\", \"Comments\", \"Publish Date\"])\n",
    "\n",
    "for i in video_urls:\n",
    "    video_id = get_video_id_by_url(i)\n",
    "    # make API call to get video info\n",
    "    response = get_video_details(youtube, id=video_id)\n",
    "    # print extracted video infos\n",
    "    single_video_data = print_video_infos(response)\n",
    "    video_data = pd.concat([video_data,single_video_data])"
   ]
  },
  {
   "cell_type": "code",
   "execution_count": 30,
   "id": "9f1f49f0-c29f-4dcb-9bdd-35c296948e94",
   "metadata": {},
   "outputs": [],
   "source": [
    "video_data = video_data.reset_index()\n",
    "video_data[\"Publish Date\"] = pd.to_datetime(video_data[\"Publish Date\"])\n",
    "video_data[\"index\"] = pd.to_datetime(video_data[\"index\"])\n",
    "video_data[\"Live Days\"] = video_data[\"index\"] - video_data[\"Publish Date\"]"
   ]
  },
  {
   "cell_type": "markdown",
   "id": "94a1b244-2f0a-45c2-a552-0da8b59f743f",
   "metadata": {},
   "source": [
    "## 4. Store Video Information"
   ]
  },
  {
   "cell_type": "code",
   "execution_count": 31,
   "id": "1ef0a5b8-066e-4507-b519-b2c082a147fa",
   "metadata": {},
   "outputs": [],
   "source": [
    "path = \"/Users/clairetang/1 platform monitor/API/Data/\"\n",
    "\n",
    "today_date = date.today().strftime(\"%Y-%m-%d\")\n",
    "yesterday_date = (date.today() - timedelta(days = 1)).strftime(\"%Y-%m-%d\")\n",
    "\n",
    "yesterday_df = pd.read_csv(path + yesterday_date + \".csv\")\n",
    "\n",
    "up_to_today_df = pd.concat([video_data, yesterday_df], join=\"outer\")\n",
    "\n",
    "up_to_today_df.to_csv(path + today_date + \".csv\", index = False)"
   ]
  }
 ],
 "metadata": {
  "kernelspec": {
   "display_name": "Python 3 (ipykernel)",
   "language": "python",
   "name": "python3"
  },
  "language_info": {
   "codemirror_mode": {
    "name": "ipython",
    "version": 3
   },
   "file_extension": ".py",
   "mimetype": "text/x-python",
   "name": "python",
   "nbconvert_exporter": "python",
   "pygments_lexer": "ipython3",
   "version": "3.9.6"
  }
 },
 "nbformat": 4,
 "nbformat_minor": 5
}
